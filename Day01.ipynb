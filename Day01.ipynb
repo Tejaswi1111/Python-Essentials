{
  "nbformat": 4,
  "nbformat_minor": 0,
  "metadata": {
    "colab": {
      "name": "Untitled",
      "provenance": [],
      "authorship_tag": "ABX9TyPuCQi8SVK80rIqtvw4Ucyv",
      "include_colab_link": true
    },
    "kernelspec": {
      "name": "python3",
      "display_name": "Python 3"
    }
  },
  "cells": [
    {
      "cell_type": "markdown",
      "metadata": {
        "id": "view-in-github",
        "colab_type": "text"
      },
      "source": [
        "<a href=\"https://colab.research.google.com/github/Tejaswi1111/Python-Essentials/blob/master/Day01.ipynb\" target=\"_parent\"><img src=\"https://colab.research.google.com/assets/colab-badge.svg\" alt=\"Open In Colab\"/></a>"
      ]
    },
    {
      "cell_type": "code",
      "metadata": {
        "id": "Tt3ZU7Ps76X-",
        "colab_type": "code",
        "colab": {}
      },
      "source": [
        "#Data Types(interger,folat,comlex,boolean,string, list, tuple and dictionary)\n"
      ],
      "execution_count": null,
      "outputs": []
    },
    {
      "cell_type": "code",
      "metadata": {
        "id": "Md4DSZwl8Iss",
        "colab_type": "code",
        "colab": {
          "base_uri": "https://localhost:8080/",
          "height": 34
        },
        "outputId": "9f8df862-bade-4290-e109-02bfbd173bb6"
      },
      "source": [
        "a =122333\n",
        "type(a)"
      ],
      "execution_count": null,
      "outputs": [
        {
          "output_type": "execute_result",
          "data": {
            "text/plain": [
              "int"
            ]
          },
          "metadata": {
            "tags": []
          },
          "execution_count": 2
        }
      ]
    },
    {
      "cell_type": "code",
      "metadata": {
        "id": "qUV3Um259Ysw",
        "colab_type": "code",
        "colab": {
          "base_uri": "https://localhost:8080/",
          "height": 34
        },
        "outputId": "ef5cafe9-72a6-4b7f-ca02-9e33996391ec"
      },
      "source": [
        "b= 44.44\n",
        "type(b)"
      ],
      "execution_count": null,
      "outputs": [
        {
          "output_type": "execute_result",
          "data": {
            "text/plain": [
              "float"
            ]
          },
          "metadata": {
            "tags": []
          },
          "execution_count": 3
        }
      ]
    },
    {
      "cell_type": "code",
      "metadata": {
        "id": "vyOR0-BT9gnp",
        "colab_type": "code",
        "colab": {
          "base_uri": "https://localhost:8080/",
          "height": 34
        },
        "outputId": "c61c6b36-a5ce-43f9-ed9e-5262e6677872"
      },
      "source": [
        "c= 1+ 4j\n",
        "type(c)"
      ],
      "execution_count": null,
      "outputs": [
        {
          "output_type": "execute_result",
          "data": {
            "text/plain": [
              "complex"
            ]
          },
          "metadata": {
            "tags": []
          },
          "execution_count": 4
        }
      ]
    },
    {
      "cell_type": "code",
      "metadata": {
        "id": "-SbzmHkD9lJK",
        "colab_type": "code",
        "colab": {
          "base_uri": "https://localhost:8080/",
          "height": 34
        },
        "outputId": "9d3299f5-89e8-4dc7-b2e8-1cfdc7e3916f"
      },
      "source": [
        "x=44\n",
        "y=22\n",
        "x<y\n"
      ],
      "execution_count": null,
      "outputs": [
        {
          "output_type": "execute_result",
          "data": {
            "text/plain": [
              "False"
            ]
          },
          "metadata": {
            "tags": []
          },
          "execution_count": 5
        }
      ]
    },
    {
      "cell_type": "code",
      "metadata": {
        "id": "N0AXuthD-Fl_",
        "colab_type": "code",
        "colab": {
          "base_uri": "https://localhost:8080/",
          "height": 51
        },
        "outputId": "9111e112-65af-43e6-9401-d3ee4306fe41"
      },
      "source": [
        "d=\"hello everyone, Good Morning\"\n",
        "print(d)\n",
        "type(d)"
      ],
      "execution_count": null,
      "outputs": [
        {
          "output_type": "stream",
          "text": [
            "hello everyone, Good Morning\n"
          ],
          "name": "stdout"
        },
        {
          "output_type": "execute_result",
          "data": {
            "text/plain": [
              "str"
            ]
          },
          "metadata": {
            "tags": []
          },
          "execution_count": 10
        }
      ]
    },
    {
      "cell_type": "code",
      "metadata": {
        "id": "A3zc0L_F-YZg",
        "colab_type": "code",
        "colab": {
          "base_uri": "https://localhost:8080/",
          "height": 51
        },
        "outputId": "711151f3-4287-4f18-82ba-1f4770f0d204"
      },
      "source": [
        "list= [1,2,\"ravi\",7.98,\"shashri\",111]\n",
        "print(list)\n",
        "type(list)"
      ],
      "execution_count": null,
      "outputs": [
        {
          "output_type": "stream",
          "text": [
            "[1, 2, 'ravi', 7.98, 'shashri', 111]\n"
          ],
          "name": "stdout"
        },
        {
          "output_type": "execute_result",
          "data": {
            "text/plain": [
              "list"
            ]
          },
          "metadata": {
            "tags": []
          },
          "execution_count": 11
        }
      ]
    },
    {
      "cell_type": "code",
      "metadata": {
        "id": "GC0whdrb-mdA",
        "colab_type": "code",
        "colab": {
          "base_uri": "https://localhost:8080/",
          "height": 51
        },
        "outputId": "0bb37d1b-1964-41bd-c3a1-478e91b3b1bb"
      },
      "source": [
        "tup= (1,2,3,4,55,66,\"raina\",\"dhoni\",7)\n",
        "print(tup)\n",
        "type(tup)"
      ],
      "execution_count": null,
      "outputs": [
        {
          "output_type": "stream",
          "text": [
            "(1, 2, 3, 4, 55, 66, 'raina', 'dhoni', 7)\n"
          ],
          "name": "stdout"
        },
        {
          "output_type": "execute_result",
          "data": {
            "text/plain": [
              "tuple"
            ]
          },
          "metadata": {
            "tags": []
          },
          "execution_count": 12
        }
      ]
    },
    {
      "cell_type": "code",
      "metadata": {
        "id": "W_42CBsV-1lt",
        "colab_type": "code",
        "colab": {
          "base_uri": "https://localhost:8080/",
          "height": 51
        },
        "outputId": "325e03f4-f12c-41da-b1d9-2f59846cb44e"
      },
      "source": [
        "dic= {1:\"dhoni\",2:\"kohli\",3:\"shikhar\",4:\"jadega\"}\n",
        "print(dic)\n",
        "type(dic)"
      ],
      "execution_count": null,
      "outputs": [
        {
          "output_type": "stream",
          "text": [
            "{1: 'dhoni', 2: 'kohli', 3: 'shikhar', 4: 'jadega'}\n"
          ],
          "name": "stdout"
        },
        {
          "output_type": "execute_result",
          "data": {
            "text/plain": [
              "dict"
            ]
          },
          "metadata": {
            "tags": []
          },
          "execution_count": 13
        }
      ]
    },
    {
      "cell_type": "code",
      "metadata": {
        "id": "bO4cM3Pg_dXB",
        "colab_type": "code",
        "colab": {}
      },
      "source": [
        "#Arithmatic Operators (+,-,*,/,%,//,**)"
      ],
      "execution_count": null,
      "outputs": []
    },
    {
      "cell_type": "code",
      "metadata": {
        "id": "86pqnDjaBA2s",
        "colab_type": "code",
        "colab": {
          "base_uri": "https://localhost:8080/",
          "height": 119
        },
        "outputId": "5478c4d0-bfa1-49c0-a0fb-82ebea9cc818"
      },
      "source": [
        "x =25\n",
        "y = 5\n",
        "add= x+y\n",
        "print (add)\n",
        "\n",
        "substr= x-y\n",
        "print(substr)\n",
        "\n",
        "div= x/y\n",
        "print(div)\n",
        "\n",
        "floordiv= x//y\n",
        "print(floordiv)\n",
        "\n",
        "exp=x**y\n",
        "print(exp)\n",
        "\n",
        "mod= x % y\n",
        "print(mod)"
      ],
      "execution_count": 19,
      "outputs": [
        {
          "output_type": "stream",
          "text": [
            "30\n",
            "20\n",
            "5.0\n",
            "5\n",
            "9765625\n",
            "0\n"
          ],
          "name": "stdout"
        }
      ]
    },
    {
      "cell_type": "code",
      "metadata": {
        "id": "fFCEgumeB5qA",
        "colab_type": "code",
        "colab": {
          "base_uri": "https://localhost:8080/",
          "height": 51
        },
        "outputId": "584e9143-d706-4a75-c9f1-600d3fa49754"
      },
      "source": [
        "a = 1+3j\n",
        "b = 2+2j\n",
        "c=a+b\n",
        "print(c)\n",
        "d= a-b\n",
        "print(d)"
      ],
      "execution_count": 21,
      "outputs": [
        {
          "output_type": "stream",
          "text": [
            "(3+5j)\n",
            "(-1+1j)\n"
          ],
          "name": "stdout"
        }
      ]
    },
    {
      "cell_type": "code",
      "metadata": {
        "id": "V8h7lzkoCHpG",
        "colab_type": "code",
        "colab": {}
      },
      "source": [
        ""
      ],
      "execution_count": null,
      "outputs": []
    }
  ]
}